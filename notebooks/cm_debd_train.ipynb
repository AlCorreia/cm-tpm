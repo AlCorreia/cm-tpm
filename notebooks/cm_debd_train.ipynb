{
 "cells": [
  {
   "cell_type": "code",
   "execution_count": null,
   "id": "4cc20d5d",
   "metadata": {},
   "outputs": [],
   "source": [
    "import sys\n",
    "import os\n",
    "repo_dir = os.path.dirname(os.getcwd())\n",
    "sys.path.append(repo_dir)"
   ]
  },
  {
   "cell_type": "code",
   "execution_count": null,
   "id": "a538e78f",
   "metadata": {
    "id": "a538e78f"
   },
   "outputs": [],
   "source": [
    "from models.cm import BernoulliDecoder, CLTBernoulliDecoder, ContinuousMixture\n",
    "from utils.bins_samplers import GaussianQMCSampler\n",
    "from deeprob.spn.structure.cltree import BinaryCLT\n",
    "from utils.reproducibility import seed_everything\n",
    "from models.nets import get_decoder_debd\n",
    "from torch.utils.data import DataLoader\n",
    "from utils.datasets import load_debd\n",
    "import pytorch_lightning as pl\n",
    "import torch\n",
    "\n",
    "\n",
    "device = 'cuda' if torch.cuda.is_available() else 'cpu'\n",
    "gpus = None if device == 'cpu' else 1\n",
    "print(device)"
   ]
  },
  {
   "cell_type": "markdown",
   "id": "ba619662",
   "metadata": {},
   "source": [
    "## Specify the datasets to train"
   ]
  },
  {
   "cell_type": "code",
   "execution_count": null,
   "id": "77964a15",
   "metadata": {},
   "outputs": [],
   "source": [
    "DEBD_DATASETS = [\n",
    "    'nltcs',\n",
    "    'msnbc',\n",
    "    'kdd',\n",
    "    'plants',\n",
    "    'baudio',\n",
    "    'jester',\n",
    "    'bnetflix',\n",
    "    'accidents',\n",
    "    'tretail',\n",
    "    'pumsb_star',\n",
    "    'dna',\n",
    "    'kosarek',\n",
    "    'msweb',\n",
    "    'book',\n",
    "    'tmovie',\n",
    "    'cwebkb',\n",
    "    'cr52',\n",
    "    'c20ng',\n",
    "    'bbc',\n",
    "    'ad',\n",
    "]\n",
    "print(DEBD_DATASETS)"
   ]
  },
  {
   "cell_type": "markdown",
   "id": "0e4171d5",
   "metadata": {},
   "source": [
    "## Specify the random seeds below: every seed is a run!"
   ]
  },
  {
   "cell_type": "code",
   "execution_count": null,
   "id": "693ebdaf",
   "metadata": {},
   "outputs": [],
   "source": [
    "seeds = [0, 1, 2, 3, 4]\n",
    "print(seeds)"
   ]
  },
  {
   "cell_type": "markdown",
   "id": "978bc360",
   "metadata": {
    "id": "978bc360"
   },
   "source": [
    "## All hyper-parameters below"
   ]
  },
  {
   "cell_type": "code",
   "execution_count": null,
   "id": "d2c7ce30",
   "metadata": {
    "id": "d2c7ce30"
   },
   "outputs": [],
   "source": [
    "batch_size = 128\n",
    "n_layers = 6\n",
    "latent_dim = 4\n",
    "n_bins = 1024\n",
    "max_epochs = 200\n",
    "use_clt = True"
   ]
  },
  {
   "cell_type": "markdown",
   "id": "9dca4d35",
   "metadata": {},
   "source": [
    "## Train"
   ]
  },
  {
   "cell_type": "code",
   "execution_count": null,
   "id": "699fe600",
   "metadata": {
    "scrolled": true
   },
   "outputs": [],
   "source": [
    "# if you run OOM, use n_chunks (e.g. n_chunks = 64)\n",
    "n_chunks = None\n",
    "missing = False\n",
    "\n",
    "for dataset_name in DEBD_DATASETS:\n",
    "    \n",
    "    \n",
    "    train, valid, _ = load_debd(dataset_name)\n",
    "    n_features = train.shape[1]\n",
    "    train_loader = DataLoader(train, batch_size=batch_size, shuffle=True, drop_last=True)\n",
    "    valid_loader = DataLoader(valid, batch_size=batch_size, shuffle=False, drop_last=False)\n",
    "    print(dataset_name, train.shape, valid.shape, len(train_loader), len(valid_loader))\n",
    "    \n",
    "    for seed in seeds:\n",
    "        seed_everything(seed)\n",
    "        \n",
    "        if use_clt:\n",
    "            scope = list(range(n_features))\n",
    "            domain = [[0, 1]] * n_features\n",
    "            clt = BinaryCLT(scope, root=torch.randint(n_features, (1,)).item())\n",
    "            clt.fit(train, domain, alpha=0.01)\n",
    "            decoder = CLTBernoulliDecoder(\n",
    "                net=get_decoder_debd(\n",
    "                    latent_dim=latent_dim,\n",
    "                    out_features=n_features*2,\n",
    "                    n_layers=n_layers,\n",
    "                    batch_norm=True),\n",
    "                tree=list(clt.tree)\n",
    "            )\n",
    "        else:\n",
    "            decoder = BernoulliDecoder(\n",
    "                net=get_decoder_debd(\n",
    "                    latent_dim=latent_dim,\n",
    "                    out_features=n_features,\n",
    "                    n_layers=n_layers,\n",
    "                    batch_norm=True)\n",
    "            )\n",
    "        \n",
    "        model = ContinuousMixture(\n",
    "            decoder=decoder,\n",
    "            sampler=GaussianQMCSampler(latent_dim, n_bins)\n",
    "        )\n",
    "        model.n_chunks = n_chunks\n",
    "        model.missing = missing\n",
    "        \n",
    "        cp_best_model_valid = pl.callbacks.ModelCheckpoint(\n",
    "            save_top_k=1,\n",
    "            monitor='valid_loss_epoch',\n",
    "            mode='min',\n",
    "            filename='best_model_valid-{epoch}'\n",
    "        )\n",
    "        early_stop_callback = pl.callbacks.early_stopping.EarlyStopping(\n",
    "            monitor=\"valid_loss_epoch\", \n",
    "            min_delta=0.00, \n",
    "            patience=15, \n",
    "            verbose=False,\n",
    "            mode='min'\n",
    "        )\n",
    "        callbacks = [cp_best_model_valid, early_stop_callback]\n",
    "        \n",
    "\n",
    "        log_dir = repo_dir + ('/logs/debd/cm_clt/' if use_clt else '/logs/debd/cm_fact/')\n",
    "        logger = pl.loggers.TensorBoardLogger(log_dir, name=dataset_name)\n",
    "        trainer = pl.Trainer(\n",
    "            max_epochs=max_epochs,\n",
    "            gpus=gpus,\n",
    "            callbacks=callbacks,\n",
    "            logger=logger,\n",
    "            deterministic=True\n",
    "        )\n",
    "        trainer.fit(model, train_loader, valid_loader)"
   ]
  }
 ],
 "metadata": {
  "accelerator": "GPU",
  "colab": {
   "collapsed_sections": [],
   "name": "run_quae.ipynb",
   "provenance": []
  },
  "kernelspec": {
   "display_name": "Python 3",
   "language": "python",
   "name": "python3"
  },
  "language_info": {
   "codemirror_mode": {
    "name": "ipython",
    "version": 3
   },
   "file_extension": ".py",
   "mimetype": "text/x-python",
   "name": "python",
   "nbconvert_exporter": "python",
   "pygments_lexer": "ipython3",
   "version": "3.9.5"
  }
 },
 "nbformat": 4,
 "nbformat_minor": 5
}
