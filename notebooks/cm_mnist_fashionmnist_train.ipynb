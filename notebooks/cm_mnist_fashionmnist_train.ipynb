{
 "cells": [
  {
   "cell_type": "code",
   "execution_count": null,
   "id": "7cf9b95b",
   "metadata": {},
   "outputs": [],
   "source": [
    "import sys\n",
    "import os\n",
    "repo_dir = os.path.dirname(os.getcwd())\n",
    "sys.path.append(repo_dir)"
   ]
  },
  {
   "cell_type": "code",
   "execution_count": null,
   "id": "e41dabb1",
   "metadata": {},
   "outputs": [],
   "source": [
    "from models.cm import ContinuousMixture, GaussianDecoder\n",
    "from torchvision.datasets import MNIST, FashionMNIST\n",
    "from utils.bins_samplers import GaussianQMCSampler\n",
    "from utils.reproducibility import seed_everything\n",
    "from utils.datasets import UnsupervisedDataset\n",
    "import torchvision.transforms as transforms\n",
    "from models.nets import mnist_conv_decoder\n",
    "from torch.utils.data import DataLoader\n",
    "import pytorch_lightning as pl\n",
    "import torch.nn as nn\n",
    "import torch\n",
    "\n",
    "device = 'cuda' if torch.cuda.is_available() else 'cpu'\n",
    "gpus = None if device == 'cpu' else 1\n",
    "print(device)"
   ]
  },
  {
   "cell_type": "markdown",
   "id": "5b2636ee",
   "metadata": {},
   "source": [
    "## Choose the dataset"
   ]
  },
  {
   "cell_type": "code",
   "execution_count": null,
   "id": "898944ab",
   "metadata": {},
   "outputs": [],
   "source": [
    "# dataset, dataset_name = FashionMNIST, 'fashion_mnist'\n",
    "dataset, dataset_name = MNIST, 'mnist'"
   ]
  },
  {
   "cell_type": "code",
   "execution_count": null,
   "id": "51765809",
   "metadata": {},
   "outputs": [],
   "source": [
    "transf = transforms.Compose([transforms.ToTensor()])\n",
    "\n",
    "train = UnsupervisedDataset(dataset(root=repo_dir + '/data', train=True, download=True, transform=transf))\n",
    "train, valid = torch.utils.data.random_split(train, [50_000, 10_000])\n",
    "\n",
    "batch_size = 128\n",
    "train_loader = DataLoader(train, batch_size=batch_size, shuffle=True, drop_last=True)\n",
    "valid_loader = DataLoader(valid, batch_size=batch_size)"
   ]
  },
  {
   "cell_type": "markdown",
   "id": "0316565a",
   "metadata": {},
   "source": [
    "## Hyper-parameters below"
   ]
  },
  {
   "cell_type": "code",
   "execution_count": null,
   "id": "36568ee1",
   "metadata": {},
   "outputs": [],
   "source": [
    "max_epochs = 300\n",
    "latent_dim = 16\n",
    "n_filters = 16\n",
    "batch_norm = True\n",
    "mu_activation = nn.Sigmoid()\n",
    "bias = False\n",
    "resblock = True\n",
    "learn_std = True\n",
    "min_std = 0.1\n",
    "max_std = 1.0\n",
    "n_bins = 2**14"
   ]
  },
  {
   "cell_type": "markdown",
   "id": "aedef212",
   "metadata": {},
   "source": [
    "## Train"
   ]
  },
  {
   "cell_type": "code",
   "execution_count": null,
   "id": "fc883a22",
   "metadata": {},
   "outputs": [],
   "source": [
    "seed_everything(0)\n",
    "model = ContinuousMixture(\n",
    "    GaussianDecoder(\n",
    "        mnist_conv_decoder(\n",
    "            latent_dim=latent_dim,\n",
    "            n_filters=n_filters,\n",
    "            batch_norm=batch_norm,\n",
    "            learn_std=learn_std,\n",
    "            bias=bias,\n",
    "            resblock=resblock),\n",
    "        learn_std,\n",
    "        min_std,\n",
    "        max_std,\n",
    "        mu_activation),\n",
    "    sampler=GaussianQMCSampler(\n",
    "        latent_dim,\n",
    "        n_bins)\n",
    ")\n",
    "model.n_chunks = 32\n",
    "model.missing = None\n",
    "\n",
    "cp_best_model_valid = pl.callbacks.ModelCheckpoint(\n",
    "    save_top_k=1,\n",
    "    monitor='valid_loss_epoch',\n",
    "    mode='min',\n",
    "    filename='best_model_valid-{epoch}'\n",
    ")\n",
    "early_stop_callback = pl.callbacks.early_stopping.EarlyStopping(\n",
    "    monitor=\"valid_loss_epoch\",\n",
    "    min_delta=0.00,\n",
    "    patience=15,\n",
    "    verbose=False,\n",
    "    mode='min'\n",
    ")\n",
    "callbacks = [cp_best_model_valid, early_stop_callback]\n",
    "\n",
    "logger = pl.loggers.TensorBoardLogger(repo_dir + '/logs/' + dataset_name, name='cm')\n",
    "trainer = pl.Trainer(\n",
    "    max_epochs=max_epochs,\n",
    "    gpus=gpus,\n",
    "    callbacks=callbacks,\n",
    "    logger=logger,\n",
    "    deterministic=True\n",
    ")\n",
    "trainer.fit(model, train_loader, valid_loader)"
   ]
  }
 ],
 "metadata": {
  "kernelspec": {
   "display_name": "Python 3",
   "language": "python",
   "name": "python3"
  },
  "language_info": {
   "codemirror_mode": {
    "name": "ipython",
    "version": 3
   },
   "file_extension": ".py",
   "mimetype": "text/x-python",
   "name": "python",
   "nbconvert_exporter": "python",
   "pygments_lexer": "ipython3",
   "version": "3.9.5"
  }
 },
 "nbformat": 4,
 "nbformat_minor": 5
}
