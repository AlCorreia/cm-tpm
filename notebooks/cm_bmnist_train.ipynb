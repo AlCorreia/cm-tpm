{
 "cells": [
  {
   "cell_type": "code",
   "execution_count": null,
   "id": "eb4ff4eb",
   "metadata": {},
   "outputs": [],
   "source": [
    "import sys\n",
    "import os\n",
    "repo_dir = os.path.dirname(os.getcwd())\n",
    "sys.path.append(repo_dir)"
   ]
  },
  {
   "cell_type": "code",
   "execution_count": null,
   "id": "c7782371",
   "metadata": {},
   "outputs": [],
   "source": [
    "from models.cm import BernoulliDecoder, CLTBernoulliDecoder, ContinuousMixture\n",
    "from utils.bins_samplers import GaussianQMCSampler\n",
    "from deeprob.spn.structure.cltree import BinaryCLT\n",
    "from utils.reproducibility import seed_everything\n",
    "from models.nets import get_decoder_debd\n",
    "from torch.utils.data import DataLoader\n",
    "from utils.datasets import load_debd\n",
    "import pytorch_lightning as pl\n",
    "import numpy as np\n",
    "import torch\n",
    "\n",
    "\n",
    "device = 'cuda' if torch.cuda.is_available() else 'cpu'\n",
    "gpus = None if device == 'cpu' else 1\n",
    "print(device)"
   ]
  },
  {
   "cell_type": "markdown",
   "id": "340217da",
   "metadata": {},
   "source": [
    "## Hyper-parameters below"
   ]
  },
  {
   "cell_type": "code",
   "execution_count": null,
   "id": "0f1feee6",
   "metadata": {},
   "outputs": [],
   "source": [
    "max_epochs = 100\n",
    "batch_size = 128\n",
    "latent_dim = 16\n",
    "n_layers = 6\n",
    "use_clt = False\n",
    "\n",
    "# every element of the list is a run\n",
    "n_bins_list = [2**14]\n",
    "print(n_bins_list)"
   ]
  },
  {
   "cell_type": "markdown",
   "id": "ef49041a",
   "metadata": {},
   "source": [
    "## Load datasets"
   ]
  },
  {
   "cell_type": "code",
   "execution_count": null,
   "id": "84042878",
   "metadata": {},
   "outputs": [],
   "source": [
    "train, valid, _ = load_debd('binarized_mnist')\n",
    "n_features = train.shape[1]\n",
    "print('Shape training: ', train.shape, ' Shape valid', valid.shape)\n",
    "\n",
    "# Create data loader\n",
    "train_loader = DataLoader(train, batch_size=batch_size, shuffle=True, drop_last=True)\n",
    "valid_loader = DataLoader(valid, batch_size=batch_size)\n",
    "print('Length training loader: ', len(train_loader), ' Length valid loader:', len(valid_loader))"
   ]
  },
  {
   "cell_type": "markdown",
   "id": "03210bf9",
   "metadata": {},
   "source": [
    "## Train"
   ]
  },
  {
   "cell_type": "code",
   "execution_count": null,
   "id": "32356555",
   "metadata": {},
   "outputs": [],
   "source": [
    "# if you run OOM, use n_chunks (e.g. n_chunks = 32)\n",
    "n_chunks = 32\n",
    "\n",
    "for n_bins in n_bins_list:\n",
    "    \n",
    "        seed_everything(42)\n",
    "        if use_clt:\n",
    "            scope = list(range(n_features))\n",
    "            domain = [[0, 1]] * n_features\n",
    "            clt = BinaryCLT(scope, root=torch.randint(n_features, (1,)).item())\n",
    "            clt.fit(train, domain, alpha=0.01)\n",
    "            decoder = CLTBernoulliDecoder(\n",
    "                net=get_decoder_debd(\n",
    "                    latent_dim=latent_dim,\n",
    "                    out_features=n_features*2,\n",
    "                    n_layers=n_layers,\n",
    "                    batch_norm=True),\n",
    "                tree=list(clt.tree)\n",
    "            )\n",
    "        else:\n",
    "            decoder = BernoulliDecoder(\n",
    "                net=get_decoder_debd(\n",
    "                    latent_dim=latent_dim,\n",
    "                    out_features=n_features,\n",
    "                    n_layers=n_layers,\n",
    "                    batch_norm=True)\n",
    "            )\n",
    "            \n",
    "        model = ContinuousMixture(\n",
    "            decoder=decoder,\n",
    "            sampler=GaussianQMCSampler(latent_dim, n_bins)\n",
    "        )\n",
    "        model.n_chunks = n_chunks\n",
    "        model.missing = False\n",
    "        \n",
    "        cp_best_model_valid = pl.callbacks.ModelCheckpoint(\n",
    "            save_top_k=1,\n",
    "            monitor='valid_loss_epoch',\n",
    "            mode='min',\n",
    "            filename='best_model_valid-{epoch}'\n",
    "        )\n",
    "        early_stop_callback = pl.callbacks.early_stopping.EarlyStopping(\n",
    "            monitor=\"valid_loss_epoch\", \n",
    "            min_delta=0.00, \n",
    "            patience=15, \n",
    "            verbose=False,\n",
    "            mode='min'\n",
    "        )\n",
    "        callbacks = [cp_best_model_valid, early_stop_callback]\n",
    "        \n",
    "        logger = pl.loggers.TensorBoardLogger(repo_dir + '/logs/bmnist/', 'cm_clt/' if use_clt else 'cm_fact/')\n",
    "        trainer = pl.Trainer(\n",
    "            max_epochs=max_epochs,\n",
    "            gpus=gpus,\n",
    "            callbacks=callbacks,\n",
    "            logger=logger,\n",
    "            deterministic=True\n",
    "        )\n",
    "        trainer.fit(model, train_loader, valid_loader)"
   ]
  }
 ],
 "metadata": {
  "kernelspec": {
   "display_name": "Python 3",
   "language": "python",
   "name": "python3"
  },
  "language_info": {
   "codemirror_mode": {
    "name": "ipython",
    "version": 3
   },
   "file_extension": ".py",
   "mimetype": "text/x-python",
   "name": "python",
   "nbconvert_exporter": "python",
   "pygments_lexer": "ipython3",
   "version": "3.9.5"
  }
 },
 "nbformat": 4,
 "nbformat_minor": 5
}
