{
 "cells": [
  {
   "cell_type": "code",
   "execution_count": null,
   "id": "4006eef6",
   "metadata": {},
   "outputs": [],
   "source": [
    "import sys\n",
    "import os\n",
    "repo_dir = os.path.dirname(os.getcwd())\n",
    "sys.path.append(repo_dir)"
   ]
  },
  {
   "cell_type": "code",
   "execution_count": null,
   "id": "1d5dd8b4",
   "metadata": {},
   "outputs": [],
   "source": [
    "from utils.reproducibility import seed_everything\n",
    "from models.lo import bins_lo, fast_bins_lo\n",
    "from models.cm import ContinuousMixture\n",
    "from torch.utils.data import DataLoader\n",
    "from utils.datasets import load_debd\n",
    "import numpy as np\n",
    "import torch\n",
    "\n",
    "\n",
    "device = 'cuda' if torch.cuda.is_available() else 'cpu'\n",
    "gpus = None if device == 'cpu' else 1\n",
    "print(device)"
   ]
  },
  {
   "cell_type": "code",
   "execution_count": null,
   "id": "5a6a2201",
   "metadata": {},
   "outputs": [],
   "source": [
    "train, valid, test = load_debd('binarized_mnist')\n",
    "\n",
    "train_loader = DataLoader(train, batch_size=128, shuffle=True, drop_last=True)\n",
    "valid_loader = DataLoader(valid, batch_size=128)\n",
    "test_loader = DataLoader(test, batch_size=128)"
   ]
  },
  {
   "cell_type": "markdown",
   "id": "4277906c",
   "metadata": {},
   "source": [
    "## Load the model"
   ]
  },
  {
   "cell_type": "code",
   "execution_count": null,
   "id": "13082064",
   "metadata": {},
   "outputs": [],
   "source": [
    "path = ''\n",
    "model = ContinuousMixture.load_from_checkpoint(path).to(device)\n",
    "model.n_chunks = 64\n",
    "model.missing = False\n",
    "model.eval();"
   ]
  },
  {
   "cell_type": "markdown",
   "id": "c9ab9101",
   "metadata": {},
   "source": [
    "## Latent Optimisation"
   ]
  },
  {
   "cell_type": "code",
   "execution_count": null,
   "id": "ade03b4c",
   "metadata": {},
   "outputs": [],
   "source": [
    "max_epochs = 50\n",
    "n_bins_list = [2**7, 2**8, 2**9, 2**10]\n",
    "print(n_bins_list)"
   ]
  },
  {
   "cell_type": "code",
   "execution_count": null,
   "id": "ad4fbdb6",
   "metadata": {},
   "outputs": [],
   "source": [
    "for n_bins in n_bins_list:\n",
    "    print('Evaluating using ' + str(n_bins) + ' bins..')\n",
    "    seed_everything(42)\n",
    "    z, log_w = bins_lo(model, n_bins, train_loader, valid_loader, max_epochs=max_epochs, lr=1e-3, device=device)\n",
    "    print(model.eval_loader(test_loader, z, log_w, device=device).mean().item())"
   ]
  }
 ],
 "metadata": {
  "kernelspec": {
   "display_name": "Python 3",
   "language": "python",
   "name": "python3"
  },
  "language_info": {
   "codemirror_mode": {
    "name": "ipython",
    "version": 3
   },
   "file_extension": ".py",
   "mimetype": "text/x-python",
   "name": "python",
   "nbconvert_exporter": "python",
   "pygments_lexer": "ipython3",
   "version": "3.9.5"
  }
 },
 "nbformat": 4,
 "nbformat_minor": 5
}
