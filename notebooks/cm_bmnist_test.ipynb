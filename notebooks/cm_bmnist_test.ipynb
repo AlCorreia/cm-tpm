{
 "cells": [
  {
   "cell_type": "code",
   "execution_count": null,
   "id": "d11bf21d",
   "metadata": {},
   "outputs": [],
   "source": [
    "import sys\n",
    "import os\n",
    "repo_dir = os.path.dirname(os.getcwd())\n",
    "sys.path.append(repo_dir)"
   ]
  },
  {
   "cell_type": "code",
   "execution_count": null,
   "id": "c7782371",
   "metadata": {},
   "outputs": [],
   "source": [
    "from utils.bins_samplers import GaussianQMCSampler\n",
    "from models.cm import ContinuousMixture\n",
    "from torch.utils.data import DataLoader\n",
    "from utils.datasets import load_debd\n",
    "import pytorch_lightning as pl\n",
    "import numpy as np\n",
    "import torch\n",
    "\n",
    "device = 'cuda' if torch.cuda.is_available() else 'cpu'\n",
    "gpus = None if device == 'cpu' else 1\n",
    "print(device)"
   ]
  },
  {
   "cell_type": "markdown",
   "id": "651fedcc",
   "metadata": {},
   "source": [
    "## Load datasets and create dataloaders"
   ]
  },
  {
   "cell_type": "code",
   "execution_count": null,
   "id": "7fe9f62a",
   "metadata": {},
   "outputs": [],
   "source": [
    "# Load datasets\n",
    "_, valid, test = load_debd('binarized_mnist')\n",
    "\n",
    "# Create loaders - if you run OOM, you may want to decrease the batch size\n",
    "batch_size = 64\n",
    "valid_loader = DataLoader(valid, batch_size=batch_size)\n",
    "test_loader = DataLoader(test, batch_size=batch_size)"
   ]
  },
  {
   "cell_type": "markdown",
   "id": "0fd8f9a7",
   "metadata": {},
   "source": [
    "## Load model (you should specify a path!)"
   ]
  },
  {
   "cell_type": "code",
   "execution_count": null,
   "id": "28127e4d",
   "metadata": {},
   "outputs": [],
   "source": [
    "# Warning: The model should be MLP based\n",
    "\n",
    "path = ''\n",
    "model = ContinuousMixture.load_from_checkpoint(path).to(device)\n",
    "model.missing = False\n",
    "model.eval();"
   ]
  },
  {
   "cell_type": "markdown",
   "id": "c6e5e14d",
   "metadata": {},
   "source": [
    "## Evaluate LLs "
   ]
  },
  {
   "cell_type": "code",
   "execution_count": null,
   "id": "79cc8b47",
   "metadata": {},
   "outputs": [],
   "source": [
    "# if you run OOM, you may want to use n_chunks\n",
    "model.n_chunks = 32\n",
    "n_bins_list = [2**7, 2**8, 2**9, 2**10, 2**11, 2**12, 2**13, 2**14]\n",
    "            \n",
    "for n_bins in n_bins_list:\n",
    "    model.sampler.n_bins = n_bins\n",
    "    z, log_w = model.sampler(seed=42)\n",
    "\n",
    "    print('Computing validation LL using %d bins..' % n_bins)\n",
    "    print(model.eval_loader(valid_loader, z, log_w, device=device).mean().item())\n",
    "    print('Computing test LL using %d bins..' % n_bins)\n",
    "    print(model.eval_loader(test_loader, z, log_w, device=device).mean().item())"
   ]
  },
  {
   "cell_type": "markdown",
   "id": "2d250168",
   "metadata": {},
   "source": [
    "## Draw 16 samples from CMs of factorisations (Only works for CMs of factorisations)"
   ]
  },
  {
   "cell_type": "code",
   "execution_count": null,
   "id": "ce688c71",
   "metadata": {},
   "outputs": [],
   "source": [
    "import matplotlib.pyplot as plt\n",
    "import torchvision"
   ]
  },
  {
   "cell_type": "code",
   "execution_count": null,
   "id": "53ca48e9",
   "metadata": {},
   "outputs": [],
   "source": [
    "latent_dim = model.sampler.latent_dim\n",
    "samples = model.decoder.net(torch.randn(16, latent_dim).to(device)).sigmoid().detach().cpu()\n",
    "\n",
    "grid_img = torchvision.utils.make_grid(samples.view(16, 1, 28, 28), nrow=4)\n",
    "fig, ax = plt.subplots(1, figsize=(10, 10))\n",
    "plt.imshow(grid_img.permute(1, 2, 0));\n",
    "ax.set_yticklabels([]);\n",
    "ax.set_xticklabels([]);"
   ]
  },
  {
   "cell_type": "markdown",
   "id": "b4688eaa",
   "metadata": {},
   "source": [
    "## Compile a mixture and sample (Only works for CMs of factorisations)"
   ]
  },
  {
   "cell_type": "code",
   "execution_count": null,
   "id": "68bc7891",
   "metadata": {},
   "outputs": [],
   "source": [
    "from models.mixtures import BernoulliMixture\n",
    "\n",
    "model.sampler.n_bins = n_components = 1024\n",
    "z, log_w = model.sampler(seed=42)\n",
    "mixture = BernoulliMixture(logits_p=model.decoder.net(z.to(device)), logits_w=log_w).to(device)"
   ]
  },
  {
   "cell_type": "code",
   "execution_count": null,
   "id": "bb685220",
   "metadata": {},
   "outputs": [],
   "source": [
    "# try both return_p=True and return_p=False\n",
    "samples = mixture.sample(16, return_p=False).detach().cpu()\n",
    "\n",
    "grid_img = torchvision.utils.make_grid(samples.view(16, 1, 28, 28), nrow=4)\n",
    "fig, ax = plt.subplots(1, figsize=(10, 10))\n",
    "plt.imshow(grid_img.permute(1, 2, 0));\n",
    "ax.set_yticklabels([]);\n",
    "ax.set_xticklabels([]);"
   ]
  },
  {
   "cell_type": "markdown",
   "id": "4fb6cb6d",
   "metadata": {},
   "source": [
    "## Sample from CM of CLTs (Only works for CMs of CLTs)"
   ]
  },
  {
   "cell_type": "code",
   "execution_count": null,
   "id": "bd6f79ae",
   "metadata": {},
   "outputs": [],
   "source": [
    "from deeprob.spn.structure.cltree import BinaryCLT\n",
    "clt = BinaryCLT(list(range(784)), tree=model.decoder.tree.numpy())\n",
    "mask = [True, False] * 784"
   ]
  },
  {
   "cell_type": "code",
   "execution_count": null,
   "id": "ef118e71",
   "metadata": {},
   "outputs": [],
   "source": [
    "param = model.decoder.net(torch.randn(1, latent_dim).to(device)).sigmoid().detach().cpu()[0]\n",
    "r = param.view(784, 2).repeat_interleave(2, 0)\n",
    "r[mask] = 1 - r[mask]\n",
    "r[clt.root * 2][1] = r[clt.root * 2][0]\n",
    "r[clt.root * 2 + 1][1] = r[clt.root * 2 + 1][0]\n",
    "clt.params = r.view(784, 2, 2).permute(0, 2, 1).log().numpy()"
   ]
  },
  {
   "cell_type": "code",
   "execution_count": null,
   "id": "e17b8986",
   "metadata": {},
   "outputs": [],
   "source": [
    "samples = torch.Tensor(clt.sample(np.nan * np.zeros((16, 784))))\n",
    "grid_img = torchvision.utils.make_grid(samples.view(16, 1, 28, 28), nrow=4)\n",
    "fig, ax = plt.subplots(1, figsize=(10, 10))\n",
    "plt.imshow(grid_img.permute(1, 2, 0));\n",
    "ax.set_yticklabels([]);\n",
    "ax.set_xticklabels([]);"
   ]
  }
 ],
 "metadata": {
  "kernelspec": {
   "display_name": "Python 3",
   "language": "python",
   "name": "python3"
  },
  "language_info": {
   "codemirror_mode": {
    "name": "ipython",
    "version": 3
   },
   "file_extension": ".py",
   "mimetype": "text/x-python",
   "name": "python",
   "nbconvert_exporter": "python",
   "pygments_lexer": "ipython3",
   "version": "3.9.5"
  }
 },
 "nbformat": 4,
 "nbformat_minor": 5
}
