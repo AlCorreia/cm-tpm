{
 "cells": [
  {
   "cell_type": "code",
   "execution_count": null,
   "id": "199a14f3",
   "metadata": {},
   "outputs": [],
   "source": [
    "import sys\n",
    "import os\n",
    "repo_dir = os.path.dirname(os.getcwd())\n",
    "sys.path.append(repo_dir)"
   ]
  },
  {
   "cell_type": "code",
   "execution_count": null,
   "id": "e41dabb1",
   "metadata": {},
   "outputs": [],
   "source": [
    "from models.cm import ContinuousMixture, GaussianDecoder\n",
    "from torchvision.datasets import MNIST, FashionMNIST\n",
    "from utils.reproducibility import seed_everything\n",
    "from utils.datasets import UnsupervisedDataset\n",
    "import torchvision.transforms as transforms\n",
    "from models.nets import mnist_conv_decoder\n",
    "from torch.utils.data import DataLoader\n",
    "import numpy as np\n",
    "import torch\n",
    "\n",
    "device = 'cuda' if torch.cuda.is_available() else 'cpu'\n",
    "gpus = None if device == 'cpu' else 1\n",
    "print(device)"
   ]
  },
  {
   "cell_type": "markdown",
   "id": "4d778a9e",
   "metadata": {},
   "source": [
    "## Choose the dataset"
   ]
  },
  {
   "cell_type": "code",
   "execution_count": null,
   "id": "40edf521",
   "metadata": {},
   "outputs": [],
   "source": [
    "# dataset, dataset_name = FashionMNIST, 'fashion_mnist'\n",
    "dataset, dataset_name = MNIST, 'mnist'"
   ]
  },
  {
   "cell_type": "code",
   "execution_count": null,
   "id": "51765809",
   "metadata": {},
   "outputs": [],
   "source": [
    "transf = transforms.Compose([transforms.ToTensor()])\n",
    "batch_size = 128\n",
    "\n",
    "test = UnsupervisedDataset(dataset(root=repo_dir + '/data/', train=False, download=True, transform=transf))\n",
    "test_loader = DataLoader(test, batch_size=batch_size)"
   ]
  },
  {
   "cell_type": "markdown",
   "id": "6c08ac28",
   "metadata": {},
   "source": [
    "## Load model (you should specify a path!)"
   ]
  },
  {
   "cell_type": "code",
   "execution_count": null,
   "id": "bfc4a433",
   "metadata": {},
   "outputs": [],
   "source": [
    "# Warning: The model should be Conv based\n",
    "\n",
    "path = ''\n",
    "model = ContinuousMixture.load_from_checkpoint(path).to(device)\n",
    "model.missing = False\n",
    "model.eval();"
   ]
  },
  {
   "cell_type": "markdown",
   "id": "ac01d561",
   "metadata": {},
   "source": [
    "## Compute LLs"
   ]
  },
  {
   "cell_type": "code",
   "execution_count": null,
   "id": "e385ed51",
   "metadata": {},
   "outputs": [],
   "source": [
    "# if you run OOM, you may want to use n_chunks\n",
    "model.n_chunks = 32\n",
    "n_bins_list = [2**7, 2**8, 2**9, 2**10, 2**11, 2**12, 2**13, 2**14]\n",
    "            \n",
    "for n_bins in n_bins_list:\n",
    "    model.sampler.n_bins = n_bins\n",
    "    z, log_w = model.sampler(seed=42)\n",
    "\n",
    "    print('Computing test LL using %d bins..' % n_bins)\n",
    "    print(model.eval_loader(test_loader, z, log_w, device=device).mean().item())"
   ]
  },
  {
   "cell_type": "markdown",
   "id": "44d7a96b",
   "metadata": {},
   "source": [
    "## Sample from CMs"
   ]
  },
  {
   "cell_type": "code",
   "execution_count": null,
   "id": "dbe45b9d",
   "metadata": {},
   "outputs": [],
   "source": [
    "import matplotlib.pyplot as plt\n",
    "import torchvision"
   ]
  },
  {
   "cell_type": "code",
   "execution_count": null,
   "id": "00798975",
   "metadata": {},
   "outputs": [],
   "source": [
    "latent_dim = model.sampler.latent_dim\n",
    "samples = model.decoder.net(torch.randn(16, latent_dim).to(device)).detach().cpu()\n",
    "\n",
    "grid_img = torchvision.utils.make_grid(samples.view(16, 1, 28, 28), nrow=4)\n",
    "fig, ax = plt.subplots(1, figsize=(10, 10))\n",
    "plt.imshow(grid_img.permute(1, 2, 0));\n",
    "ax.set_yticklabels([]);\n",
    "ax.set_xticklabels([]);"
   ]
  }
 ],
 "metadata": {
  "kernelspec": {
   "display_name": "Python 3",
   "language": "python",
   "name": "python3"
  },
  "language_info": {
   "codemirror_mode": {
    "name": "ipython",
    "version": 3
   },
   "file_extension": ".py",
   "mimetype": "text/x-python",
   "name": "python",
   "nbconvert_exporter": "python",
   "pygments_lexer": "ipython3",
   "version": "3.9.5"
  }
 },
 "nbformat": 4,
 "nbformat_minor": 5
}
