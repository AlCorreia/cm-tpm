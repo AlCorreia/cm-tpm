{
 "cells": [
  {
   "cell_type": "code",
   "execution_count": null,
   "id": "b84ea224",
   "metadata": {},
   "outputs": [],
   "source": [
    "import sys\n",
    "import os\n",
    "repo_dir = os.path.dirname(os.getcwd())\n",
    "sys.path.append(repo_dir)"
   ]
  },
  {
   "cell_type": "code",
   "execution_count": null,
   "id": "5f43670f",
   "metadata": {},
   "outputs": [],
   "source": [
    "from utils.reproducibility import seed_everything\n",
    "from torch.utils.data import DataLoader\n",
    "from utils.datasets import load_debd\n",
    "from models.vae import VAE, DebdVAE\n",
    "import pytorch_lightning as pl\n",
    "import torch\n",
    "\n",
    "device = 'cuda' if torch.cuda.is_available() else 'cpu'\n",
    "gpus = None if device == 'cpu' else 1\n",
    "print(device, gpus)"
   ]
  },
  {
   "cell_type": "markdown",
   "id": "79dca547",
   "metadata": {},
   "source": [
    "### Specify the datasets to train"
   ]
  },
  {
   "cell_type": "code",
   "execution_count": null,
   "id": "b07123e3",
   "metadata": {},
   "outputs": [],
   "source": [
    "DEBD_DATASETS = [\n",
    "    'nltcs',\n",
    "    'msnbc',\n",
    "    'kdd',\n",
    "    'plants',\n",
    "    'baudio',\n",
    "    'jester',\n",
    "    'bnetflix',\n",
    "    'accidents',\n",
    "    'tretail',\n",
    "    'pumsb_star',\n",
    "    'dna',\n",
    "    'kosarek',\n",
    "    'msweb',\n",
    "    'book',\n",
    "    'tmovie',\n",
    "    'cwebkb',\n",
    "    'cr52',\n",
    "    'c20ng',\n",
    "    'bbc',\n",
    "    'ad',\n",
    "]\n",
    "print(DEBD_DATASETS)"
   ]
  },
  {
   "cell_type": "markdown",
   "id": "50bd483a",
   "metadata": {},
   "source": [
    "### Specify the random seeds below: every seed is a run!"
   ]
  },
  {
   "cell_type": "code",
   "execution_count": null,
   "id": "ef034b82",
   "metadata": {},
   "outputs": [],
   "source": [
    "seeds = [0, 1, 2, 3, 4]"
   ]
  },
  {
   "cell_type": "code",
   "execution_count": null,
   "id": "2f5566c8",
   "metadata": {},
   "outputs": [],
   "source": [
    "batch_size = 128\n",
    "n_layers = 6\n",
    "latent_dim = 4\n",
    "max_epochs = 200"
   ]
  },
  {
   "cell_type": "markdown",
   "id": "d25bdf64",
   "metadata": {},
   "source": [
    "## Train"
   ]
  },
  {
   "cell_type": "code",
   "execution_count": null,
   "id": "9d338866",
   "metadata": {},
   "outputs": [],
   "source": [
    "for dataset_name in DEBD_DATASETS:\n",
    "    \n",
    "    train, valid, _ = load_debd(dataset_name)\n",
    "    train_loader = DataLoader(train, batch_size=batch_size, shuffle=True, drop_last=True)\n",
    "    valid_loader = DataLoader(valid, batch_size=batch_size, shuffle=False, drop_last=False)\n",
    "    print(dataset_name, train.shape, valid.shape, len(train_loader), len(valid_loader))\n",
    "\n",
    "    for seed in seeds:\n",
    "        \n",
    "        seed_everything(seed)\n",
    "        model = VAE(\n",
    "            vae=DebdVAE(\n",
    "                n_features=train.shape[1],\n",
    "                latent_dim=latent_dim,\n",
    "                batch_norm=True,\n",
    "                n_layers=n_layers),\n",
    "            recon_loss=torch.nn.BCELoss(reduction='none')\n",
    "        )\n",
    "        \n",
    "        cp_best_model_valid = pl.callbacks.ModelCheckpoint(\n",
    "            save_top_k=1,\n",
    "            monitor='valid_loss_epoch',\n",
    "            mode='min',\n",
    "            filename='best_model_valid-{epoch}'\n",
    "        )\n",
    "        early_stop_callback = pl.callbacks.early_stopping.EarlyStopping(\n",
    "            monitor=\"valid_loss_epoch\", \n",
    "            min_delta=0.00, \n",
    "            patience=15, \n",
    "            verbose=False,\n",
    "            mode='min'\n",
    "        )\n",
    "        callbacks = [cp_best_model_valid, early_stop_callback]\n",
    "\n",
    "        logger = pl.loggers.TensorBoardLogger(repo_dir + '/logs/debd/vae/', name=dataset_name)\n",
    "        trainer = pl.Trainer(\n",
    "            max_epochs=max_epochs,\n",
    "            gpus=gpus,\n",
    "            callbacks=callbacks,\n",
    "            logger=logger,\n",
    "            deterministic=True\n",
    "        )\n",
    "        trainer.fit(model, train_loader, valid_loader)"
   ]
  }
 ],
 "metadata": {
  "kernelspec": {
   "display_name": "Python 3",
   "language": "python",
   "name": "python3"
  },
  "language_info": {
   "codemirror_mode": {
    "name": "ipython",
    "version": 3
   },
   "file_extension": ".py",
   "mimetype": "text/x-python",
   "name": "python",
   "nbconvert_exporter": "python",
   "pygments_lexer": "ipython3",
   "version": "3.9.5"
  }
 },
 "nbformat": 4,
 "nbformat_minor": 5
}
